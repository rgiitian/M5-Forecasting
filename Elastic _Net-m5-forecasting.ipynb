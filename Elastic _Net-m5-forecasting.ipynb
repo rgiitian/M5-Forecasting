{
 "cells": [
  {
   "cell_type": "code",
   "execution_count": null,
   "metadata": {
    "execution": {
     "iopub.execute_input": "2022-12-08T14:40:01.237857Z",
     "iopub.status.busy": "2022-12-08T14:40:01.237404Z",
     "iopub.status.idle": "2022-12-08T14:40:03.848488Z",
     "shell.execute_reply": "2022-12-08T14:40:03.846973Z",
     "shell.execute_reply.started": "2022-12-08T14:40:01.237768Z"
    }
   },
   "outputs": [],
   "source": [
    "import os\n",
    "import gc\n",
    "import warnings\n",
    "\n",
    "import pandas as pd\n",
    "from pandas.plotting import register_matplotlib_converters\n",
    "import numpy as np\n",
    "import matplotlib.pyplot as plt\n",
    "import seaborn as sns\n",
    "#import lightgbm as lgb\n",
    "from sklearn.metrics import mean_squared_error\n",
    "from sklearn.preprocessing import LabelEncoder\n",
    "\n",
    "warnings.filterwarnings(\"ignore\")"
   ]
  },
  {
   "cell_type": "code",
   "execution_count": null,
   "metadata": {
    "execution": {
     "iopub.execute_input": "2022-12-08T14:40:06.151142Z",
     "iopub.status.busy": "2022-12-08T14:40:06.150715Z",
     "iopub.status.idle": "2022-12-08T14:40:06.529972Z",
     "shell.execute_reply": "2022-12-08T14:40:06.528316Z",
     "shell.execute_reply.started": "2022-12-08T14:40:06.151104Z"
    }
   },
   "outputs": [],
   "source": [
    "from sklearn.linear_model import SGDRegressor\n",
    "from sklearn.model_selection import GridSearchCV, cross_val_score, KFold\n",
    "from sklearn.model_selection import RandomizedSearchCV\n",
    "from sklearn.linear_model import ElasticNet\n",
    "from sklearn.ensemble import RandomForestRegressor\n",
    "from sklearn.linear_model import LinearRegression\n",
    "from sklearn.neighbors import KNeighborsRegressor\n",
    "#import xgboost\n",
    "#from xgboost import XGBRegressor\n",
    "import matplotlib.pyplot as plt\n",
    "%matplotlib inline\n",
    "from sklearn.preprocessing import StandardScaler"
   ]
  },
  {
   "cell_type": "code",
   "execution_count": null,
   "metadata": {
    "execution": {
     "iopub.execute_input": "2022-12-08T14:40:08.768069Z",
     "iopub.status.busy": "2022-12-08T14:40:08.766815Z",
     "iopub.status.idle": "2022-12-08T14:40:08.779116Z",
     "shell.execute_reply": "2022-12-08T14:40:08.778110Z",
     "shell.execute_reply.started": "2022-12-08T14:40:08.768022Z"
    }
   },
   "outputs": [],
   "source": [
    "frames = ['df1','df2','df3','df4','df5','df6','df7','df8','df9','df10']\n",
    "for i in frames:\n",
    "    i=pd.DataFrame()"
   ]
  },
  {
   "cell_type": "code",
   "execution_count": null,
   "metadata": {
    "execution": {
     "iopub.execute_input": "2022-12-08T14:40:10.358204Z",
     "iopub.status.busy": "2022-12-08T14:40:10.357577Z",
     "iopub.status.idle": "2022-12-08T14:40:44.429539Z",
     "shell.execute_reply": "2022-12-08T14:40:44.428256Z",
     "shell.execute_reply.started": "2022-12-08T14:40:10.358167Z"
    }
   },
   "outputs": [],
   "source": [
    "files = ['data_CA_1','data_CA_2', 'data_CA_3', 'data_CA_4','data_TX_1','data_TX_2', 'data_TX_3','data_WI_1','data_WI_2','data_WI_3']\n",
    "for i in range(10):\n",
    "    frames[i] = pd.read_pickle(files[i]+'.pkl')\n",
    "    print(files[i])\n",
    "    print(frames[i].shape)"
   ]
  },
  {
   "cell_type": "code",
   "execution_count": null,
   "metadata": {
    "execution": {
     "iopub.execute_input": "2022-12-08T14:40:44.432471Z",
     "iopub.status.busy": "2022-12-08T14:40:44.431952Z",
     "iopub.status.idle": "2022-12-08T14:40:49.386653Z",
     "shell.execute_reply": "2022-12-08T14:40:49.385402Z",
     "shell.execute_reply.started": "2022-12-08T14:40:44.432423Z"
    }
   },
   "outputs": [],
   "source": [
    "final_frame = pd.concat(frames)"
   ]
  },
  {
   "cell_type": "code",
   "execution_count": null,
   "metadata": {
    "execution": {
     "iopub.execute_input": "2022-12-08T14:40:49.389703Z",
     "iopub.status.busy": "2022-12-08T14:40:49.388817Z",
     "iopub.status.idle": "2022-12-08T14:40:49.398373Z",
     "shell.execute_reply": "2022-12-08T14:40:49.397040Z",
     "shell.execute_reply.started": "2022-12-08T14:40:49.389657Z"
    }
   },
   "outputs": [],
   "source": [
    "final_frame.shape"
   ]
  },
  {
   "cell_type": "code",
   "execution_count": null,
   "metadata": {
    "execution": {
     "iopub.execute_input": "2022-12-08T14:40:49.401925Z",
     "iopub.status.busy": "2022-12-08T14:40:49.401468Z",
     "iopub.status.idle": "2022-12-08T14:40:55.000257Z",
     "shell.execute_reply": "2022-12-08T14:40:54.999074Z",
     "shell.execute_reply.started": "2022-12-08T14:40:49.401892Z"
    }
   },
   "outputs": [],
   "source": [
    "def pretrain_filter(dt, n):\n",
    "    dt['d'] = dt['d'].apply(lambda x: int(x.split('_')[1]))\n",
    "    dt['d'] = dt.d.astype('int16')\n",
    "    dt = dt[dt.d > n]\n",
    "    return dt\n",
    "\n",
    "df_final = pretrain_filter(final_frame, 1200)\n",
    "\n",
    "encoder = LabelEncoder()\n",
    "df_final['store_id'] = encoder.fit_transform(df_final['store_id']).astype('int16')\n",
    "\n",
    "df_final.info()"
   ]
  },
  {
   "cell_type": "code",
   "execution_count": null,
   "metadata": {
    "execution": {
     "iopub.execute_input": "2022-12-08T14:40:55.002795Z",
     "iopub.status.busy": "2022-12-08T14:40:55.001810Z",
     "iopub.status.idle": "2022-12-08T14:40:55.922173Z",
     "shell.execute_reply": "2022-12-08T14:40:55.920781Z",
     "shell.execute_reply.started": "2022-12-08T14:40:55.002754Z"
    }
   },
   "outputs": [],
   "source": [
    "ftrList = list(df_final.columns)\n",
    "ftrList = list(set(ftrList) - set(['d', 'date', 'demand', 'store_id', 'id']))\n",
    "\n",
    "x_train = df_final[df_final.d < 1914]\n",
    "y_train = x_train['demand']\n",
    "\n",
    "x_val = df_final[(df_final.d >= 1914) & (df_final.d < 1942)]\n",
    "y_val = x_val['demand']\n",
    "\n",
    "x_test = df_final[(df_final.d >= 1942)]"
   ]
  },
  {
   "cell_type": "code",
   "execution_count": null,
   "metadata": {
    "execution": {
     "iopub.execute_input": "2022-12-08T14:40:55.924724Z",
     "iopub.status.busy": "2022-12-08T14:40:55.924192Z",
     "iopub.status.idle": "2022-12-08T14:40:55.933002Z",
     "shell.execute_reply": "2022-12-08T14:40:55.931287Z",
     "shell.execute_reply.started": "2022-12-08T14:40:55.924673Z"
    }
   },
   "outputs": [],
   "source": [
    "def final_col(df_f):\n",
    "    df = df_f[ftrList]\n",
    "    col = df.columns\n",
    "    col = list(col)\n",
    "    print(col)\n",
    "    print(type(col))\n",
    "    for i in col:\n",
    "        null_count = df[i].isnull().sum()\n",
    "        if (null_count!=0):\n",
    "            print(i,null_count)\n",
    "            df[i] = df[i].fillna(0)\n",
    "    return df"
   ]
  },
  {
   "cell_type": "code",
   "execution_count": null,
   "metadata": {
    "execution": {
     "iopub.execute_input": "2022-12-08T14:40:55.936661Z",
     "iopub.status.busy": "2022-12-08T14:40:55.936206Z",
     "iopub.status.idle": "2022-12-08T14:40:55.953194Z",
     "shell.execute_reply": "2022-12-08T14:40:55.951910Z",
     "shell.execute_reply.started": "2022-12-08T14:40:55.936624Z"
    }
   },
   "outputs": [],
   "source": [
    "x_train.shape"
   ]
  },
  {
   "cell_type": "code",
   "execution_count": null,
   "metadata": {
    "execution": {
     "iopub.execute_input": "2022-12-08T14:40:55.955050Z",
     "iopub.status.busy": "2022-12-08T14:40:55.954694Z",
     "iopub.status.idle": "2022-12-08T14:40:56.375956Z",
     "shell.execute_reply": "2022-12-08T14:40:56.374419Z",
     "shell.execute_reply.started": "2022-12-08T14:40:55.955019Z"
    }
   },
   "outputs": [],
   "source": [
    "x_train = final_col(x_train)"
   ]
  },
  {
   "cell_type": "code",
   "execution_count": null,
   "metadata": {
    "execution": {
     "iopub.execute_input": "2022-12-08T14:40:56.378102Z",
     "iopub.status.busy": "2022-12-08T14:40:56.377685Z",
     "iopub.status.idle": "2022-12-08T14:40:56.386558Z",
     "shell.execute_reply": "2022-12-08T14:40:56.385150Z",
     "shell.execute_reply.started": "2022-12-08T14:40:56.378068Z"
    }
   },
   "outputs": [],
   "source": [
    "x_train.shape"
   ]
  },
  {
   "cell_type": "code",
   "execution_count": null,
   "metadata": {
    "execution": {
     "iopub.execute_input": "2022-12-08T14:40:56.390563Z",
     "iopub.status.busy": "2022-12-08T14:40:56.390132Z",
     "iopub.status.idle": "2022-12-08T14:40:56.703885Z",
     "shell.execute_reply": "2022-12-08T14:40:56.702454Z",
     "shell.execute_reply.started": "2022-12-08T14:40:56.390525Z"
    }
   },
   "outputs": [],
   "source": [
    "x_val = final_col(x_val)\n",
    "x_test = final_col(x_test)"
   ]
  },
  {
   "cell_type": "code",
   "execution_count": null,
   "metadata": {
    "execution": {
     "iopub.execute_input": "2022-12-08T14:40:56.706606Z",
     "iopub.status.busy": "2022-12-08T14:40:56.706032Z",
     "iopub.status.idle": "2022-12-08T14:40:56.715878Z",
     "shell.execute_reply": "2022-12-08T14:40:56.714557Z",
     "shell.execute_reply.started": "2022-12-08T14:40:56.706554Z"
    }
   },
   "outputs": [],
   "source": [
    "x_val.shape"
   ]
  },
  {
   "cell_type": "code",
   "execution_count": null,
   "metadata": {
    "execution": {
     "iopub.execute_input": "2022-12-08T14:40:56.717608Z",
     "iopub.status.busy": "2022-12-08T14:40:56.717202Z",
     "iopub.status.idle": "2022-12-08T14:40:56.742035Z",
     "shell.execute_reply": "2022-12-08T14:40:56.739767Z",
     "shell.execute_reply.started": "2022-12-08T14:40:56.717571Z"
    }
   },
   "outputs": [],
   "source": [
    "x_test.shape"
   ]
  },
  {
   "cell_type": "markdown",
   "metadata": {},
   "source": [
    "## Elastic Net Model Training"
   ]
  },
  {
   "cell_type": "code",
   "execution_count": null,
   "metadata": {
    "execution": {
     "iopub.execute_input": "2022-12-08T14:40:56.743971Z",
     "iopub.status.busy": "2022-12-08T14:40:56.743511Z",
     "iopub.status.idle": "2022-12-08T14:40:56.756657Z",
     "shell.execute_reply": "2022-12-08T14:40:56.754552Z",
     "shell.execute_reply.started": "2022-12-08T14:40:56.743934Z"
    }
   },
   "outputs": [],
   "source": [
    "x_train_copy = x_train"
   ]
  },
  {
   "cell_type": "code",
   "execution_count": null,
   "metadata": {
    "execution": {
     "iopub.execute_input": "2022-12-08T14:40:56.761252Z",
     "iopub.status.busy": "2022-12-08T14:40:56.759576Z",
     "iopub.status.idle": "2022-12-08T14:40:58.124249Z",
     "shell.execute_reply": "2022-12-08T14:40:58.123010Z",
     "shell.execute_reply.started": "2022-12-08T14:40:56.761184Z"
    }
   },
   "outputs": [],
   "source": [
    "scaler = StandardScaler()\n",
    "x_train = scaler.fit_transform(x_train)"
   ]
  },
  {
   "cell_type": "code",
   "execution_count": null,
   "metadata": {},
   "outputs": [],
   "source": [
    "inner_cv = KFold(n_splits = 5, shuffle = True, random_state = 10)\n",
    "outer_cv = KFold(n_splits = 5, shuffle = True, random_state = 10)\n",
    "scoring='neg_root_mean_squared_error'"
   ]
  },
  {
   "cell_type": "code",
   "execution_count": null,
   "metadata": {},
   "outputs": [],
   "source": [
    "en = ElasticNet()\n",
    "en_grid = { 'alpha' : [1.0,1.5], 'l1_ratio' :[0.4], 'selection' : ['random'] } \n",
    "en_reg = GridSearchCV(estimator = en, param_grid = en_grid, scoring = scoring, cv = inner_cv)\n",
    "en_m = en_reg.fit(x_train, y_train)\n",
    "en_best_param = en_m.best_params_\n",
    "print(en_best_param)\n",
    "en_predictions = en_m.predict(x_test)\n",
    "en_pred = np.array(en_predictions)\n",
    "x_test_en_pred = x_test\n",
    "x_test_en_pred['predictions'] = en_pred.tolist()\n",
    "x_test_en_pred.to_csv('submission3-en.csv',index=False)"
   ]
  }
 ],
 "metadata": {
  "kernelspec": {
   "display_name": "Python 3 (ipykernel)",
   "language": "python",
   "name": "python3"
  },
  "language_info": {
   "codemirror_mode": {
    "name": "ipython",
    "version": 3
   },
   "file_extension": ".py",
   "mimetype": "text/x-python",
   "name": "python",
   "nbconvert_exporter": "python",
   "pygments_lexer": "ipython3",
   "version": "3.9.12"
  }
 },
 "nbformat": 4,
 "nbformat_minor": 4
}
